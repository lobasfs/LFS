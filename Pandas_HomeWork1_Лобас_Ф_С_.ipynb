{
  "cells": [
    {
      "cell_type": "markdown",
      "metadata": {
        "id": "view-in-github",
        "colab_type": "text"
      },
      "source": [
        "<a href=\"https://colab.research.google.com/github/lobasfs/LFS/blob/main/Pandas_HomeWork1_%D0%9B%D0%BE%D0%B1%D0%B0%D1%81_%D0%A4_%D0%A1_.ipynb\" target=\"_parent\"><img src=\"https://colab.research.google.com/assets/colab-badge.svg\" alt=\"Open In Colab\"/></a>"
      ]
    },
    {
      "cell_type": "code",
      "execution_count": null,
      "id": "0abef32f-3997-490e-9a7f-1bd2b4467a48",
      "metadata": {
        "id": "0abef32f-3997-490e-9a7f-1bd2b4467a48"
      },
      "outputs": [],
      "source": [
        "import pandas as pd"
      ]
    },
    {
      "cell_type": "code",
      "execution_count": null,
      "id": "1b5a9474-0b9f-4a5c-bfe0-4848c1a505a3",
      "metadata": {
        "id": "1b5a9474-0b9f-4a5c-bfe0-4848c1a505a3",
        "outputId": "0131db3d-e3ab-4869-ffa5-2f1cfbc865e1"
      },
      "outputs": [
        {
          "data": {
            "text/html": [
              "<div>\n",
              "<style scoped>\n",
              "    .dataframe tbody tr th:only-of-type {\n",
              "        vertical-align: middle;\n",
              "    }\n",
              "\n",
              "    .dataframe tbody tr th {\n",
              "        vertical-align: top;\n",
              "    }\n",
              "\n",
              "    .dataframe thead th {\n",
              "        text-align: right;\n",
              "    }\n",
              "</style>\n",
              "<table border=\"1\" class=\"dataframe\">\n",
              "  <thead>\n",
              "    <tr style=\"text-align: right;\">\n",
              "      <th></th>\n",
              "      <th>row_id</th>\n",
              "      <th>timestamp</th>\n",
              "      <th>user_id</th>\n",
              "      <th>content_id</th>\n",
              "      <th>content_type_id</th>\n",
              "      <th>task_container_id</th>\n",
              "      <th>user_answer</th>\n",
              "      <th>answered_correctly</th>\n",
              "      <th>prior_question_elapsed_time</th>\n",
              "      <th>prior_question_had_explanation</th>\n",
              "    </tr>\n",
              "  </thead>\n",
              "  <tbody>\n",
              "    <tr>\n",
              "      <th>0</th>\n",
              "      <td>0</td>\n",
              "      <td>0</td>\n",
              "      <td>115</td>\n",
              "      <td>5692</td>\n",
              "      <td>0</td>\n",
              "      <td>1</td>\n",
              "      <td>3</td>\n",
              "      <td>1</td>\n",
              "      <td>NaN</td>\n",
              "      <td>NaN</td>\n",
              "    </tr>\n",
              "    <tr>\n",
              "      <th>1</th>\n",
              "      <td>1</td>\n",
              "      <td>56943</td>\n",
              "      <td>115</td>\n",
              "      <td>5716</td>\n",
              "      <td>0</td>\n",
              "      <td>2</td>\n",
              "      <td>2</td>\n",
              "      <td>1</td>\n",
              "      <td>37000.0</td>\n",
              "      <td>False</td>\n",
              "    </tr>\n",
              "    <tr>\n",
              "      <th>2</th>\n",
              "      <td>2</td>\n",
              "      <td>118363</td>\n",
              "      <td>115</td>\n",
              "      <td>128</td>\n",
              "      <td>0</td>\n",
              "      <td>0</td>\n",
              "      <td>0</td>\n",
              "      <td>1</td>\n",
              "      <td>55000.0</td>\n",
              "      <td>False</td>\n",
              "    </tr>\n",
              "    <tr>\n",
              "      <th>3</th>\n",
              "      <td>3</td>\n",
              "      <td>131167</td>\n",
              "      <td>115</td>\n",
              "      <td>7860</td>\n",
              "      <td>0</td>\n",
              "      <td>3</td>\n",
              "      <td>0</td>\n",
              "      <td>1</td>\n",
              "      <td>19000.0</td>\n",
              "      <td>False</td>\n",
              "    </tr>\n",
              "    <tr>\n",
              "      <th>4</th>\n",
              "      <td>4</td>\n",
              "      <td>137965</td>\n",
              "      <td>115</td>\n",
              "      <td>7922</td>\n",
              "      <td>0</td>\n",
              "      <td>4</td>\n",
              "      <td>1</td>\n",
              "      <td>1</td>\n",
              "      <td>11000.0</td>\n",
              "      <td>False</td>\n",
              "    </tr>\n",
              "    <tr>\n",
              "      <th>...</th>\n",
              "      <td>...</td>\n",
              "      <td>...</td>\n",
              "      <td>...</td>\n",
              "      <td>...</td>\n",
              "      <td>...</td>\n",
              "      <td>...</td>\n",
              "      <td>...</td>\n",
              "      <td>...</td>\n",
              "      <td>...</td>\n",
              "      <td>...</td>\n",
              "    </tr>\n",
              "    <tr>\n",
              "      <th>999995</th>\n",
              "      <td>999995</td>\n",
              "      <td>26482248</td>\n",
              "      <td>20949024</td>\n",
              "      <td>8803</td>\n",
              "      <td>0</td>\n",
              "      <td>29</td>\n",
              "      <td>1</td>\n",
              "      <td>1</td>\n",
              "      <td>14000.0</td>\n",
              "      <td>True</td>\n",
              "    </tr>\n",
              "    <tr>\n",
              "      <th>999996</th>\n",
              "      <td>999996</td>\n",
              "      <td>26516686</td>\n",
              "      <td>20949024</td>\n",
              "      <td>4664</td>\n",
              "      <td>0</td>\n",
              "      <td>30</td>\n",
              "      <td>3</td>\n",
              "      <td>1</td>\n",
              "      <td>17000.0</td>\n",
              "      <td>True</td>\n",
              "    </tr>\n",
              "    <tr>\n",
              "      <th>999997</th>\n",
              "      <td>999997</td>\n",
              "      <td>26537967</td>\n",
              "      <td>20949024</td>\n",
              "      <td>4108</td>\n",
              "      <td>0</td>\n",
              "      <td>31</td>\n",
              "      <td>1</td>\n",
              "      <td>0</td>\n",
              "      <td>18000.0</td>\n",
              "      <td>True</td>\n",
              "    </tr>\n",
              "    <tr>\n",
              "      <th>999998</th>\n",
              "      <td>999998</td>\n",
              "      <td>26590240</td>\n",
              "      <td>20949024</td>\n",
              "      <td>5014</td>\n",
              "      <td>0</td>\n",
              "      <td>32</td>\n",
              "      <td>3</td>\n",
              "      <td>0</td>\n",
              "      <td>6000.0</td>\n",
              "      <td>True</td>\n",
              "    </tr>\n",
              "    <tr>\n",
              "      <th>999999</th>\n",
              "      <td>999999</td>\n",
              "      <td>26605316</td>\n",
              "      <td>20949024</td>\n",
              "      <td>9828</td>\n",
              "      <td>0</td>\n",
              "      <td>33</td>\n",
              "      <td>0</td>\n",
              "      <td>0</td>\n",
              "      <td>46000.0</td>\n",
              "      <td>True</td>\n",
              "    </tr>\n",
              "  </tbody>\n",
              "</table>\n",
              "<p>1000000 rows × 10 columns</p>\n",
              "</div>"
            ],
            "text/plain": [
              "        row_id  timestamp   user_id  content_id  content_type_id  \\\n",
              "0            0          0       115        5692                0   \n",
              "1            1      56943       115        5716                0   \n",
              "2            2     118363       115         128                0   \n",
              "3            3     131167       115        7860                0   \n",
              "4            4     137965       115        7922                0   \n",
              "...        ...        ...       ...         ...              ...   \n",
              "999995  999995   26482248  20949024        8803                0   \n",
              "999996  999996   26516686  20949024        4664                0   \n",
              "999997  999997   26537967  20949024        4108                0   \n",
              "999998  999998   26590240  20949024        5014                0   \n",
              "999999  999999   26605316  20949024        9828                0   \n",
              "\n",
              "        task_container_id  user_answer  answered_correctly  \\\n",
              "0                       1            3                   1   \n",
              "1                       2            2                   1   \n",
              "2                       0            0                   1   \n",
              "3                       3            0                   1   \n",
              "4                       4            1                   1   \n",
              "...                   ...          ...                 ...   \n",
              "999995                 29            1                   1   \n",
              "999996                 30            3                   1   \n",
              "999997                 31            1                   0   \n",
              "999998                 32            3                   0   \n",
              "999999                 33            0                   0   \n",
              "\n",
              "        prior_question_elapsed_time prior_question_had_explanation  \n",
              "0                               NaN                            NaN  \n",
              "1                           37000.0                          False  \n",
              "2                           55000.0                          False  \n",
              "3                           19000.0                          False  \n",
              "4                           11000.0                          False  \n",
              "...                             ...                            ...  \n",
              "999995                      14000.0                           True  \n",
              "999996                      17000.0                           True  \n",
              "999997                      18000.0                           True  \n",
              "999998                       6000.0                           True  \n",
              "999999                      46000.0                           True  \n",
              "\n",
              "[1000000 rows x 10 columns]"
            ]
          },
          "metadata": {},
          "output_type": "display_data"
        },
        {
          "name": "stdout",
          "output_type": "stream",
          "text": [
            "<class 'pandas.core.frame.DataFrame'>\n",
            "RangeIndex: 1000000 entries, 0 to 999999\n",
            "Data columns (total 10 columns):\n",
            " #   Column                          Non-Null Count    Dtype  \n",
            "---  ------                          --------------    -----  \n",
            " 0   row_id                          1000000 non-null  int64  \n",
            " 1   timestamp                       1000000 non-null  int64  \n",
            " 2   user_id                         1000000 non-null  int64  \n",
            " 3   content_id                      1000000 non-null  int64  \n",
            " 4   content_type_id                 1000000 non-null  int64  \n",
            " 5   task_container_id               1000000 non-null  int64  \n",
            " 6   user_answer                     1000000 non-null  int64  \n",
            " 7   answered_correctly              1000000 non-null  int64  \n",
            " 8   prior_question_elapsed_time     976277 non-null   float64\n",
            " 9   prior_question_had_explanation  996184 non-null   object \n",
            "dtypes: float64(1), int64(8), object(1)\n",
            "memory usage: 76.3+ MB\n"
          ]
        },
        {
          "data": {
            "text/plain": [
              "None"
            ]
          },
          "metadata": {},
          "output_type": "display_data"
        },
        {
          "data": {
            "text/plain": [
              "row_id                                0\n",
              "timestamp                             0\n",
              "user_id                               0\n",
              "content_id                            0\n",
              "content_type_id                       0\n",
              "task_container_id                     0\n",
              "user_answer                           0\n",
              "answered_correctly                    0\n",
              "prior_question_elapsed_time       23723\n",
              "prior_question_had_explanation     3816\n",
              "dtype: int64"
            ]
          },
          "execution_count": 5,
          "metadata": {},
          "output_type": "execute_result"
        }
      ],
      "source": [
        "# Загрузка данных\n",
        "train = pd.read_csv('полный архив/train.csv', nrows=1000000)\n",
        "# вывод данных\n",
        "display(train)\n",
        "# информация о данных\n",
        "display(train.info())\n",
        "# проверка на пропуски\n",
        "train.isnull().sum()"
      ]
    },
    {
      "cell_type": "code",
      "execution_count": null,
      "id": "8498a772-71a9-4432-abba-62017b151252",
      "metadata": {
        "id": "8498a772-71a9-4432-abba-62017b151252",
        "outputId": "3d83b703-389c-408a-b5a3-9f109b191417"
      },
      "outputs": [
        {
          "name": "stdout",
          "output_type": "stream",
          "text": [
            "<class 'pandas.core.frame.DataFrame'>\n",
            "RangeIndex: 1000000 entries, 0 to 999999\n",
            "Data columns (total 10 columns):\n",
            " #   Column                          Non-Null Count    Dtype  \n",
            "---  ------                          --------------    -----  \n",
            " 0   row_id                          1000000 non-null  int64  \n",
            " 1   timestamp                       1000000 non-null  int64  \n",
            " 2   user_id                         1000000 non-null  int64  \n",
            " 3   content_id                      1000000 non-null  int64  \n",
            " 4   content_type_id                 1000000 non-null  int64  \n",
            " 5   task_container_id               1000000 non-null  int64  \n",
            " 6   user_answer                     1000000 non-null  int64  \n",
            " 7   answered_correctly              1000000 non-null  int64  \n",
            " 8   prior_question_elapsed_time     1000000 non-null  float64\n",
            " 9   prior_question_had_explanation  1000000 non-null  bool   \n",
            "dtypes: bool(1), float64(1), int64(8)\n",
            "memory usage: 69.6 MB\n"
          ]
        },
        {
          "data": {
            "text/plain": [
              "None"
            ]
          },
          "metadata": {},
          "output_type": "display_data"
        }
      ],
      "source": [
        "# Заполнение пропусков\n",
        "train['prior_question_elapsed_time'] = train['prior_question_elapsed_time'].fillna(train['prior_question_elapsed_time'].median())\n",
        "\n",
        "# Заполнение пропусков для prior_question_had_explanation\n",
        "train['prior_question_had_explanation'] = train['prior_question_had_explanation'].fillna(False).astype(bool)\n",
        "\n",
        "# Преобразование булевых значений для prior_question_had_explanation\n",
        "train['prior_question_had_explanation'] = train['prior_question_had_explanation'].astype(bool)\n",
        "\n",
        "display(train.info())"
      ]
    },
    {
      "cell_type": "code",
      "execution_count": null,
      "id": "46c98ddb-9f95-440d-a668-1cde5d85ea44",
      "metadata": {
        "id": "46c98ddb-9f95-440d-a668-1cde5d85ea44",
        "outputId": "679717fa-66cb-4250-df18-2cef2d77fd51"
      },
      "outputs": [
        {
          "data": {
            "text/html": [
              "<div>\n",
              "<style scoped>\n",
              "    .dataframe tbody tr th:only-of-type {\n",
              "        vertical-align: middle;\n",
              "    }\n",
              "\n",
              "    .dataframe tbody tr th {\n",
              "        vertical-align: top;\n",
              "    }\n",
              "\n",
              "    .dataframe thead th {\n",
              "        text-align: right;\n",
              "    }\n",
              "</style>\n",
              "<table border=\"1\" class=\"dataframe\">\n",
              "  <thead>\n",
              "    <tr style=\"text-align: right;\">\n",
              "      <th></th>\n",
              "      <th>question_id</th>\n",
              "      <th>bundle_id</th>\n",
              "      <th>correct_answer</th>\n",
              "      <th>part</th>\n",
              "      <th>tags</th>\n",
              "    </tr>\n",
              "  </thead>\n",
              "  <tbody>\n",
              "    <tr>\n",
              "      <th>0</th>\n",
              "      <td>0</td>\n",
              "      <td>0</td>\n",
              "      <td>0</td>\n",
              "      <td>1</td>\n",
              "      <td>51 131 162 38</td>\n",
              "    </tr>\n",
              "    <tr>\n",
              "      <th>1</th>\n",
              "      <td>1</td>\n",
              "      <td>1</td>\n",
              "      <td>1</td>\n",
              "      <td>1</td>\n",
              "      <td>131 36 81</td>\n",
              "    </tr>\n",
              "    <tr>\n",
              "      <th>2</th>\n",
              "      <td>2</td>\n",
              "      <td>2</td>\n",
              "      <td>0</td>\n",
              "      <td>1</td>\n",
              "      <td>131 101 162 92</td>\n",
              "    </tr>\n",
              "    <tr>\n",
              "      <th>3</th>\n",
              "      <td>3</td>\n",
              "      <td>3</td>\n",
              "      <td>0</td>\n",
              "      <td>1</td>\n",
              "      <td>131 149 162 29</td>\n",
              "    </tr>\n",
              "    <tr>\n",
              "      <th>4</th>\n",
              "      <td>4</td>\n",
              "      <td>4</td>\n",
              "      <td>3</td>\n",
              "      <td>1</td>\n",
              "      <td>131 5 162 38</td>\n",
              "    </tr>\n",
              "    <tr>\n",
              "      <th>...</th>\n",
              "      <td>...</td>\n",
              "      <td>...</td>\n",
              "      <td>...</td>\n",
              "      <td>...</td>\n",
              "      <td>...</td>\n",
              "    </tr>\n",
              "    <tr>\n",
              "      <th>13518</th>\n",
              "      <td>13518</td>\n",
              "      <td>13518</td>\n",
              "      <td>3</td>\n",
              "      <td>5</td>\n",
              "      <td>14</td>\n",
              "    </tr>\n",
              "    <tr>\n",
              "      <th>13519</th>\n",
              "      <td>13519</td>\n",
              "      <td>13519</td>\n",
              "      <td>3</td>\n",
              "      <td>5</td>\n",
              "      <td>8</td>\n",
              "    </tr>\n",
              "    <tr>\n",
              "      <th>13520</th>\n",
              "      <td>13520</td>\n",
              "      <td>13520</td>\n",
              "      <td>2</td>\n",
              "      <td>5</td>\n",
              "      <td>73</td>\n",
              "    </tr>\n",
              "    <tr>\n",
              "      <th>13521</th>\n",
              "      <td>13521</td>\n",
              "      <td>13521</td>\n",
              "      <td>0</td>\n",
              "      <td>5</td>\n",
              "      <td>125</td>\n",
              "    </tr>\n",
              "    <tr>\n",
              "      <th>13522</th>\n",
              "      <td>13522</td>\n",
              "      <td>13522</td>\n",
              "      <td>3</td>\n",
              "      <td>5</td>\n",
              "      <td>55</td>\n",
              "    </tr>\n",
              "  </tbody>\n",
              "</table>\n",
              "<p>13523 rows × 5 columns</p>\n",
              "</div>"
            ],
            "text/plain": [
              "       question_id  bundle_id  correct_answer  part            tags\n",
              "0                0          0               0     1   51 131 162 38\n",
              "1                1          1               1     1       131 36 81\n",
              "2                2          2               0     1  131 101 162 92\n",
              "3                3          3               0     1  131 149 162 29\n",
              "4                4          4               3     1    131 5 162 38\n",
              "...            ...        ...             ...   ...             ...\n",
              "13518        13518      13518               3     5              14\n",
              "13519        13519      13519               3     5               8\n",
              "13520        13520      13520               2     5              73\n",
              "13521        13521      13521               0     5             125\n",
              "13522        13522      13522               3     5              55\n",
              "\n",
              "[13523 rows x 5 columns]"
            ]
          },
          "metadata": {},
          "output_type": "display_data"
        },
        {
          "name": "stdout",
          "output_type": "stream",
          "text": [
            "<class 'pandas.core.frame.DataFrame'>\n",
            "RangeIndex: 13523 entries, 0 to 13522\n",
            "Data columns (total 5 columns):\n",
            " #   Column          Non-Null Count  Dtype \n",
            "---  ------          --------------  ----- \n",
            " 0   question_id     13523 non-null  int64 \n",
            " 1   bundle_id       13523 non-null  int64 \n",
            " 2   correct_answer  13523 non-null  int64 \n",
            " 3   part            13523 non-null  int64 \n",
            " 4   tags            13522 non-null  object\n",
            "dtypes: int64(4), object(1)\n",
            "memory usage: 528.4+ KB\n"
          ]
        },
        {
          "data": {
            "text/plain": [
              "None"
            ]
          },
          "metadata": {},
          "output_type": "display_data"
        },
        {
          "data": {
            "text/plain": [
              "question_id       0\n",
              "bundle_id         0\n",
              "correct_answer    0\n",
              "part              0\n",
              "tags              1\n",
              "dtype: int64"
            ]
          },
          "execution_count": 17,
          "metadata": {},
          "output_type": "execute_result"
        }
      ],
      "source": [
        "questions = pd.read_csv('полный архив/questions.csv')\n",
        "# вывод данных\n",
        "display(questions)\n",
        "# информация о данных\n",
        "display(questions.info())\n",
        "# проверка на пропуски\n",
        "questions.isnull().sum()"
      ]
    },
    {
      "cell_type": "code",
      "execution_count": null,
      "id": "6545af4b-ee10-490a-97a2-8b13898d1ca1",
      "metadata": {
        "id": "6545af4b-ee10-490a-97a2-8b13898d1ca1",
        "outputId": "16cb2522-b204-4b0c-db7b-03d769ba6dca"
      },
      "outputs": [
        {
          "name": "stdout",
          "output_type": "stream",
          "text": [
            "<class 'pandas.core.frame.DataFrame'>\n",
            "RangeIndex: 980093 entries, 0 to 980092\n",
            "Data columns (total 15 columns):\n",
            " #   Column                          Non-Null Count   Dtype  \n",
            "---  ------                          --------------   -----  \n",
            " 0   row_id                          980093 non-null  int64  \n",
            " 1   timestamp                       980093 non-null  int64  \n",
            " 2   user_id                         980093 non-null  int64  \n",
            " 3   content_id                      980093 non-null  int64  \n",
            " 4   content_type_id                 980093 non-null  int64  \n",
            " 5   task_container_id               980093 non-null  int64  \n",
            " 6   user_answer                     980093 non-null  int64  \n",
            " 7   answered_correctly              980093 non-null  int64  \n",
            " 8   prior_question_elapsed_time     980093 non-null  float64\n",
            " 9   prior_question_had_explanation  980093 non-null  bool   \n",
            " 10  question_id                     980093 non-null  int64  \n",
            " 11  bundle_id                       980093 non-null  int64  \n",
            " 12  correct_answer                  980093 non-null  int64  \n",
            " 13  part                            980093 non-null  int64  \n",
            " 14  tags                            980093 non-null  object \n",
            "dtypes: bool(1), float64(1), int64(12), object(1)\n",
            "memory usage: 105.6+ MB\n"
          ]
        },
        {
          "data": {
            "text/plain": [
              "None"
            ]
          },
          "metadata": {},
          "output_type": "display_data"
        },
        {
          "name": "stdout",
          "output_type": "stream",
          "text": [
            "\n",
            "Общий процент правильно отвеченных вопросов: 65.03576701394664\n",
            "\n",
            "Корреляция между временем ответа и правильностью: 0.00\n",
            "\n",
            "Влияние объяснений на правильность ответа:\n",
            " prior_question_had_explanation\n",
            "False    0.496907\n",
            "True     0.665913\n",
            "Name: answered_correctly, dtype: float64\n",
            "\n",
            "Частота ошибок по частям вопросов:\n",
            " part\n",
            "1    0.264166\n",
            "2    0.292742\n",
            "3    0.307904\n",
            "4    0.379041\n",
            "5    0.393679\n",
            "6    0.349305\n",
            "7    0.354859\n",
            "Name: answered_correctly, dtype: float64\n",
            "\n",
            "Среднее количество просмотренных лекций на пользователя: 13.50\n"
          ]
        }
      ],
      "source": [
        "# Фильтрация только для вопросов (content_type_id == 0) и объединение с questions для анализа метаданных вопросов\n",
        "train_questions = train[train['content_type_id'] == 0].merge(\n",
        "    questions, left_on='content_id', right_on='question_id', how='left'\n",
        ")\n",
        "display(train_questions.info())\n",
        "# Процент правильно отвеченных вопросов\n",
        "overall_correct_rate = train_questions['answered_correctly'].mean()\n",
        "print('\\nОбщий процент правильно отвеченных вопросов:', overall_correct_rate * 100)\n",
        "# Влияние времени на правильность ответа\n",
        "time_correct_corr = train_questions[['prior_question_elapsed_time', 'answered_correctly']].corr().iloc[0, 1]\n",
        "print(f'\\nКорреляция между временем ответа и правильностью: {time_correct_corr:.2f}')\n",
        "# Влияние объяснений на правильность ответа\n",
        "explanation_effect = train_questions.groupby('prior_question_had_explanation')['answered_correctly'].mean()\n",
        "print(f'\\nВлияние объяснений на правильность ответа:\\n {explanation_effect}')\n",
        "# Частота ошибок по частям вопросов (анализ на основе question part)\n",
        "error_rate_per_part = train_questions.groupby('part')['answered_correctly'].apply(lambda x: 1 - x.mean())\n",
        "print(f'\\nЧастота ошибок по частям вопросов:\\n {error_rate_per_part}')\n",
        "\n",
        "# Анализ роли лекций: среднее количество просмотренных лекций на пользователя\n",
        "lecture_count_per_user = train[train['content_type_id'] == 1].groupby('user_id').size().mean()\n",
        "print(f'\\nСреднее количество просмотренных лекций на пользователя: {lecture_count_per_user:.2f}')"
      ]
    },
    {
      "cell_type": "code",
      "execution_count": null,
      "id": "42a471fa-7a6f-4f3e-bf52-620ab52433e9",
      "metadata": {
        "id": "42a471fa-7a6f-4f3e-bf52-620ab52433e9",
        "outputId": "b1b9c19d-2842-4989-b1c9-d9e1233e9396"
      },
      "outputs": [
        {
          "name": "stdout",
          "output_type": "stream",
          "text": [
            "       user_id  average_score\n",
            "0          115       0.695652\n",
            "1          124       0.233333\n",
            "2         2746       0.500000\n",
            "3         5382       0.632812\n",
            "4         8623       0.598214\n",
            "...        ...            ...\n",
            "3819  20913319       0.560096\n",
            "3820  20913864       0.333333\n",
            "3821  20938253       0.575701\n",
            "3822  20948951       0.607843\n",
            "3823  20949024       0.312500\n",
            "\n",
            "[3824 rows x 2 columns]\n"
          ]
        }
      ],
      "source": [
        "# Успеваемость по пользователям\n",
        "user_performance = train.groupby('user_id')['answered_correctly'].mean().reset_index()\n",
        "user_performance.columns = ['user_id', 'average_score']\n",
        "print(user_performance)"
      ]
    },
    {
      "cell_type": "code",
      "execution_count": null,
      "id": "3814d0ad-db5d-4213-b31e-81c63a5cffef",
      "metadata": {
        "id": "3814d0ad-db5d-4213-b31e-81c63a5cffef",
        "outputId": "4714f2e1-bcf8-4109-d565-ab6186b91508"
      },
      "outputs": [
        {
          "data": {
            "text/html": [
              "<div>\n",
              "<style scoped>\n",
              "    .dataframe tbody tr th:only-of-type {\n",
              "        vertical-align: middle;\n",
              "    }\n",
              "\n",
              "    .dataframe tbody tr th {\n",
              "        vertical-align: top;\n",
              "    }\n",
              "\n",
              "    .dataframe thead th {\n",
              "        text-align: right;\n",
              "    }\n",
              "</style>\n",
              "<table border=\"1\" class=\"dataframe\">\n",
              "  <thead>\n",
              "    <tr style=\"text-align: right;\">\n",
              "      <th></th>\n",
              "      <th>lecture_id</th>\n",
              "      <th>tag</th>\n",
              "      <th>part</th>\n",
              "      <th>type_of</th>\n",
              "    </tr>\n",
              "  </thead>\n",
              "  <tbody>\n",
              "    <tr>\n",
              "      <th>0</th>\n",
              "      <td>89</td>\n",
              "      <td>159</td>\n",
              "      <td>5</td>\n",
              "      <td>concept</td>\n",
              "    </tr>\n",
              "    <tr>\n",
              "      <th>1</th>\n",
              "      <td>100</td>\n",
              "      <td>70</td>\n",
              "      <td>1</td>\n",
              "      <td>concept</td>\n",
              "    </tr>\n",
              "    <tr>\n",
              "      <th>2</th>\n",
              "      <td>185</td>\n",
              "      <td>45</td>\n",
              "      <td>6</td>\n",
              "      <td>concept</td>\n",
              "    </tr>\n",
              "    <tr>\n",
              "      <th>3</th>\n",
              "      <td>192</td>\n",
              "      <td>79</td>\n",
              "      <td>5</td>\n",
              "      <td>solving question</td>\n",
              "    </tr>\n",
              "    <tr>\n",
              "      <th>4</th>\n",
              "      <td>317</td>\n",
              "      <td>156</td>\n",
              "      <td>5</td>\n",
              "      <td>solving question</td>\n",
              "    </tr>\n",
              "    <tr>\n",
              "      <th>...</th>\n",
              "      <td>...</td>\n",
              "      <td>...</td>\n",
              "      <td>...</td>\n",
              "      <td>...</td>\n",
              "    </tr>\n",
              "    <tr>\n",
              "      <th>413</th>\n",
              "      <td>32535</td>\n",
              "      <td>8</td>\n",
              "      <td>5</td>\n",
              "      <td>solving question</td>\n",
              "    </tr>\n",
              "    <tr>\n",
              "      <th>414</th>\n",
              "      <td>32570</td>\n",
              "      <td>113</td>\n",
              "      <td>3</td>\n",
              "      <td>solving question</td>\n",
              "    </tr>\n",
              "    <tr>\n",
              "      <th>415</th>\n",
              "      <td>32604</td>\n",
              "      <td>24</td>\n",
              "      <td>6</td>\n",
              "      <td>concept</td>\n",
              "    </tr>\n",
              "    <tr>\n",
              "      <th>416</th>\n",
              "      <td>32625</td>\n",
              "      <td>142</td>\n",
              "      <td>2</td>\n",
              "      <td>concept</td>\n",
              "    </tr>\n",
              "    <tr>\n",
              "      <th>417</th>\n",
              "      <td>32736</td>\n",
              "      <td>82</td>\n",
              "      <td>3</td>\n",
              "      <td>concept</td>\n",
              "    </tr>\n",
              "  </tbody>\n",
              "</table>\n",
              "<p>418 rows × 4 columns</p>\n",
              "</div>"
            ],
            "text/plain": [
              "     lecture_id  tag  part           type_of\n",
              "0            89  159     5           concept\n",
              "1           100   70     1           concept\n",
              "2           185   45     6           concept\n",
              "3           192   79     5  solving question\n",
              "4           317  156     5  solving question\n",
              "..          ...  ...   ...               ...\n",
              "413       32535    8     5  solving question\n",
              "414       32570  113     3  solving question\n",
              "415       32604   24     6           concept\n",
              "416       32625  142     2           concept\n",
              "417       32736   82     3           concept\n",
              "\n",
              "[418 rows x 4 columns]"
            ]
          },
          "metadata": {},
          "output_type": "display_data"
        },
        {
          "name": "stdout",
          "output_type": "stream",
          "text": [
            "<class 'pandas.core.frame.DataFrame'>\n",
            "RangeIndex: 418 entries, 0 to 417\n",
            "Data columns (total 4 columns):\n",
            " #   Column      Non-Null Count  Dtype \n",
            "---  ------      --------------  ----- \n",
            " 0   lecture_id  418 non-null    int64 \n",
            " 1   tag         418 non-null    int64 \n",
            " 2   part        418 non-null    int64 \n",
            " 3   type_of     418 non-null    object\n",
            "dtypes: int64(3), object(1)\n",
            "memory usage: 13.2+ KB\n"
          ]
        },
        {
          "data": {
            "text/plain": [
              "None"
            ]
          },
          "metadata": {},
          "output_type": "display_data"
        },
        {
          "data": {
            "text/plain": [
              "lecture_id    0\n",
              "tag           0\n",
              "part          0\n",
              "type_of       0\n",
              "dtype: int64"
            ]
          },
          "execution_count": 47,
          "metadata": {},
          "output_type": "execute_result"
        }
      ],
      "source": [
        "lectures = pd.read_csv('полный архив/lectures.csv')\n",
        "# вывод данных\n",
        "display(lectures)\n",
        "# информация о данных\n",
        "display(lectures.info())\n",
        "# проверка на пропуски\n",
        "lectures.isnull().sum()"
      ]
    },
    {
      "cell_type": "code",
      "execution_count": null,
      "id": "8ed8d967-87be-4f8b-a125-54505b872fc5",
      "metadata": {
        "id": "8ed8d967-87be-4f8b-a125-54505b872fc5",
        "outputId": "5037a432-f00e-4073-a1ac-d1d2ab412cd3"
      },
      "outputs": [
        {
          "data": {
            "text/html": [
              "<div>\n",
              "<style scoped>\n",
              "    .dataframe tbody tr th:only-of-type {\n",
              "        vertical-align: middle;\n",
              "    }\n",
              "\n",
              "    .dataframe tbody tr th {\n",
              "        vertical-align: top;\n",
              "    }\n",
              "\n",
              "    .dataframe thead th {\n",
              "        text-align: right;\n",
              "    }\n",
              "</style>\n",
              "<table border=\"1\" class=\"dataframe\">\n",
              "  <thead>\n",
              "    <tr style=\"text-align: right;\">\n",
              "      <th></th>\n",
              "      <th>part</th>\n",
              "      <th>lecture_count</th>\n",
              "    </tr>\n",
              "  </thead>\n",
              "  <tbody>\n",
              "    <tr>\n",
              "      <th>0</th>\n",
              "      <td>1</td>\n",
              "      <td>54</td>\n",
              "    </tr>\n",
              "    <tr>\n",
              "      <th>1</th>\n",
              "      <td>2</td>\n",
              "      <td>56</td>\n",
              "    </tr>\n",
              "    <tr>\n",
              "      <th>2</th>\n",
              "      <td>3</td>\n",
              "      <td>19</td>\n",
              "    </tr>\n",
              "    <tr>\n",
              "      <th>3</th>\n",
              "      <td>4</td>\n",
              "      <td>31</td>\n",
              "    </tr>\n",
              "    <tr>\n",
              "      <th>4</th>\n",
              "      <td>5</td>\n",
              "      <td>143</td>\n",
              "    </tr>\n",
              "    <tr>\n",
              "      <th>5</th>\n",
              "      <td>6</td>\n",
              "      <td>83</td>\n",
              "    </tr>\n",
              "    <tr>\n",
              "      <th>6</th>\n",
              "      <td>7</td>\n",
              "      <td>32</td>\n",
              "    </tr>\n",
              "  </tbody>\n",
              "</table>\n",
              "</div>"
            ],
            "text/plain": [
              "   part  lecture_count\n",
              "0     1             54\n",
              "1     2             56\n",
              "2     3             19\n",
              "3     4             31\n",
              "4     5            143\n",
              "5     6             83\n",
              "6     7             32"
            ]
          },
          "execution_count": 49,
          "metadata": {},
          "output_type": "execute_result"
        }
      ],
      "source": [
        "# Анализ лекций\n",
        "lectures_summary = lectures.groupby('part').agg({\n",
        "    'lecture_id': 'count'\n",
        "}).reset_index()\n",
        "lectures_summary.columns = ['part', 'lecture_count']\n",
        "lectures_summary"
      ]
    },
    {
      "cell_type": "code",
      "execution_count": null,
      "id": "10036548-ef46-466d-a26f-cf87603cbcc8",
      "metadata": {
        "id": "10036548-ef46-466d-a26f-cf87603cbcc8",
        "outputId": "97bb8746-a0f6-46e4-9827-a9c71194d576"
      },
      "outputs": [
        {
          "data": {
            "image/png": "[encoded data removed]",
            "text/plain": [
              "<Figure size 640x480 with 1 Axes>"
            ]
          },
          "metadata": {},
          "output_type": "display_data"
        }
      ],
      "source": [
        "import seaborn as sns\n",
        "import matplotlib.pyplot as plt\n",
        "\n",
        "# Визуализация успеваемости студентов\n",
        "sns.histplot(user_performance['average_score'], bins=20)\n",
        "plt.title('Распределение успеваемости студентов')\n",
        "plt.xlabel('Средний балл')\n",
        "plt.ylabel('Количество студентов')\n",
        "plt.show()"
      ]
    },
    {
      "cell_type": "code",
      "execution_count": null,
      "id": "7fc67440-202c-46a1-83e8-909c194d06f1",
      "metadata": {
        "id": "7fc67440-202c-46a1-83e8-909c194d06f1",
        "outputId": "e2b8c149-8987-4bda-eb77-db7c599a8fc8"
      },
      "outputs": [
        {
          "data": {
            "image/png": "[encoded data removed]",
            "text/plain": [
              "<Figure size 800x500 with 1 Axes>"
            ]
          },
          "metadata": {},
          "output_type": "display_data"
        }
      ],
      "source": [
        "# Распределение времени ответа на вопросы\n",
        "plt.figure(figsize=(8, 5))\n",
        "# Переводим время ответа в секунды\n",
        "sns.histplot(train_questions['prior_question_elapsed_time'].dropna() / 1000, bins=50, kde=True)\n",
        "plt.title('Распределение времени ответа на вопросы')\n",
        "plt.xlabel('Время ответа (секунды)')\n",
        "plt.ylabel('Частота')\n",
        "plt.show()"
      ]
    },
    {
      "cell_type": "code",
      "execution_count": null,
      "id": "c3425f32-a473-4a98-a5c8-cf4cb2a93e9d",
      "metadata": {
        "id": "c3425f32-a473-4a98-a5c8-cf4cb2a93e9d",
        "outputId": "c7588757-dd8d-4a23-9547-8f4fa03f1a65"
      },
      "outputs": [
        {
          "data": {
            "image/png": "[encoded data removed]",
            "text/plain": [
              "<Figure size 800x500 with 1 Axes>"
            ]
          },
          "metadata": {},
          "output_type": "display_data"
        }
      ],
      "source": [
        "# Корреляция наличия объяснения и правильности ответа\n",
        "plt.figure(figsize=(8, 5))\n",
        "sns.barplot(x=explanation_effect.index, y=explanation_effect.values)\n",
        "plt.title(\"Влияние объяснения на долю правильных ответов\")\n",
        "plt.xlabel(\"Наличие объяснения\")\n",
        "plt.ylabel(\"Доля правильных ответов\")\n",
        "plt.show()"
      ]
    }
  ],
  "metadata": {
    "kernelspec": {
      "display_name": "Python 3 (ipykernel)",
      "language": "python",
      "name": "python3"
    },
    "language_info": {
      "codemirror_mode": {
        "name": "ipython",
        "version": 3
      },
      "file_extension": ".py",
      "mimetype": "text/x-python",
      "name": "python",
      "nbconvert_exporter": "python",
      "pygments_lexer": "ipython3",
      "version": "3.12.4"
    },
    "colab": {
      "provenance": [],
      "include_colab_link": true
    }
  },
  "nbformat": 4,
  "nbformat_minor": 5
}