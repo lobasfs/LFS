{
  "cells": [
    {
      "cell_type": "markdown",
      "metadata": {
        "id": "view-in-github",
        "colab_type": "text"
      },
      "source": [
        "<a href=\"https://colab.research.google.com/github/lobasfs/LFS/blob/main/HomeWork3_LobasFS.ipynb\" target=\"_parent\"><img src=\"https://colab.research.google.com/assets/colab-badge.svg\" alt=\"Open In Colab\"/></a>"
      ]
    },
    {
      "cell_type": "code",
      "execution_count": 1,
      "metadata": {
        "colab": {
          "base_uri": "https://localhost:8080/"
        },
        "id": "MXXTuy_o0sjk",
        "outputId": "cdd3d030-217e-4a0c-8b76-95d60a83c7f9"
      },
      "outputs": [
        {
          "output_type": "stream",
          "name": "stdout",
          "text": [
            "\u001b[2K   \u001b[90m━━━━━━━━━━━━━━━━━━━━━━━━━━━━━━━━━━━━━━━━\u001b[0m \u001b[32m1.4/1.4 MB\u001b[0m \u001b[31m6.2 MB/s\u001b[0m eta \u001b[36m0:00:00\u001b[0m\n",
            "\u001b[2K   \u001b[90m━━━━━━━━━━━━━━━━━━━━━━━━━━━━━━━━━━━━━━━━\u001b[0m \u001b[32m953.8/953.8 kB\u001b[0m \u001b[31m18.8 MB/s\u001b[0m eta \u001b[36m0:00:00\u001b[0m\n",
            "\u001b[2K   \u001b[90m━━━━━━━━━━━━━━━━━━━━━━━━━━━━━━━━━━━━━━━━\u001b[0m \u001b[32m840.2/840.2 kB\u001b[0m \u001b[31m24.6 MB/s\u001b[0m eta \u001b[36m0:00:00\u001b[0m\n",
            "\u001b[2K   \u001b[90m━━━━━━━━━━━━━━━━━━━━━━━━━━━━━━━━━━━━━━━━\u001b[0m \u001b[32m178.7/178.7 kB\u001b[0m \u001b[31m8.5 MB/s\u001b[0m eta \u001b[36m0:00:00\u001b[0m\n",
            "\u001b[?25h"
          ]
        }
      ],
      "source": [
        "!pip install -q -U kaggle_environments"
      ]
    },
    {
      "cell_type": "code",
      "execution_count": 2,
      "metadata": {
        "id": "yz23vWHD0wcj",
        "colab": {
          "base_uri": "https://localhost:8080/"
        },
        "outputId": "26b13657-9359-4835-c75d-39bb79e7bf02"
      },
      "outputs": [
        {
          "output_type": "stream",
          "name": "stderr",
          "text": [
            "/usr/local/lib/python3.10/dist-packages/pygame/pkgdata.py:25: DeprecationWarning: pkg_resources is deprecated as an API. See https://setuptools.pypa.io/en/latest/pkg_resources.html\n",
            "  from pkg_resources import resource_stream, resource_exists\n",
            "/usr/local/lib/python3.10/dist-packages/pkg_resources/__init__.py:3154: DeprecationWarning: Deprecated call to `pkg_resources.declare_namespace('google')`.\n",
            "Implementing implicit namespace packages (as specified in PEP 420) is preferred to `pkg_resources.declare_namespace`. See https://setuptools.pypa.io/en/latest/references/keywords.html#keyword-namespace-packages\n",
            "  declare_namespace(pkg)\n",
            "/usr/local/lib/python3.10/dist-packages/pkg_resources/__init__.py:3154: DeprecationWarning: Deprecated call to `pkg_resources.declare_namespace('google.cloud')`.\n",
            "Implementing implicit namespace packages (as specified in PEP 420) is preferred to `pkg_resources.declare_namespace`. See https://setuptools.pypa.io/en/latest/references/keywords.html#keyword-namespace-packages\n",
            "  declare_namespace(pkg)\n",
            "/usr/local/lib/python3.10/dist-packages/pkg_resources/__init__.py:3154: DeprecationWarning: Deprecated call to `pkg_resources.declare_namespace('sphinxcontrib')`.\n",
            "Implementing implicit namespace packages (as specified in PEP 420) is preferred to `pkg_resources.declare_namespace`. See https://setuptools.pypa.io/en/latest/references/keywords.html#keyword-namespace-packages\n",
            "  declare_namespace(pkg)\n"
          ]
        }
      ],
      "source": [
        "import numpy as np\n",
        "import pandas as pd\n",
        "import random\n",
        "\n",
        "import matplotlib.pyplot as plt\n",
        "import seaborn as sns\n",
        "\n",
        "from kaggle_environments import make, evaluate"
      ]
    },
    {
      "cell_type": "markdown",
      "metadata": {
        "id": "TlPSsV3jMyk-"
      },
      "source": [
        "1. Опишем поведение агента, всегда начинающего с \"Камня\"\n",
        "2. Опишем поведение агента, всегда начинающего с \"Камня\", в четный ход играющий предмет, который выигрывает предыдущий ход оппонента, а в нечетный - снова \"Камень\"\n",
        "3. Опишем поведение агента, всегда начинающего с \"Камня\", а потом играющего предмет, который проигрывает предыдущему ходу оппонента\n",
        "4. Опишем поведение агента, всегда начинающего с \"Камня\", а потом играющего предмет, который выигрывает предыдущий ход оппонента\n",
        "5. Опишем поведение агента, всегда начинающего с \"Бумаги\"\n",
        "6. Опишем поведение агента, всегда начинающего с \"Бумаги\", в четный ход играющий предмет, который выигрывает предыдущий ход оппонента, а в нечетный - снова \"Бумагу\"\n",
        "7. Опишем поведение агента, всегда начинающего с \"Бумаги\", а потом играющего предмет, который проигрывает предыдущему ходу оппонента\n",
        "8. Опишем поведение агента, всегда начинающего с \"Бумаги\", а потом играющего предмет, который выигрывает предыдущий ход оппонента\n",
        "9. Опишем поведение агента, всегда начинающего с \"Ножниц\"\n",
        "10. Опишем поведение агента, всегда начинающего с \"Ножниц\", в четный ход играющий предмет, который выигрывает предыдущий ход оппонента, а в нечетный - снова \"Бумагу\"\n",
        "11. Опишем поведение агента, всегда начинающего с \"Ножниц\", а потом играющего предмет, который проигрывает предыдущему ходу оппонента\n",
        "12. Опишем поведение агента, всегда начинающего с \"Ножниц\", а потом играющего предмет, который выигрывает предыдущий ход оппонента"
      ]
    },
    {
      "cell_type": "code",
      "execution_count": 7,
      "metadata": {
        "colab": {
          "base_uri": "https://localhost:8080/"
        },
        "id": "3Kf5N2iuM5ta",
        "outputId": "e54beaa8-8fa9-4920-da20-7c5579fb00d0"
      },
      "outputs": [
        {
          "output_type": "stream",
          "name": "stdout",
          "text": [
            "Overwriting rock_agent.py\n"
          ]
        }
      ],
      "source": [
        "#Агент 1.\n",
        "%%writefile rock_agent.py\n",
        "def rock_agent(observation, configuration):\n",
        "  \"\"\"\n",
        "  0 - камень, 1 - бумага, 2 - ножницы\n",
        "  Агент, всегда играющий \"Камень\"\n",
        "  \"\"\"\n",
        "  return 0"
      ]
    },
    {
      "cell_type": "code",
      "execution_count": 8,
      "metadata": {
        "colab": {
          "base_uri": "https://localhost:8080/"
        },
        "id": "pExx6cs1tD1p",
        "outputId": "aaa8018c-766f-40cd-f428-83d75992364e"
      },
      "outputs": [
        {
          "output_type": "stream",
          "name": "stdout",
          "text": [
            "Writing rock_agent_prev.py\n"
          ]
        }
      ],
      "source": [
        "#Агент 2.\n",
        "%%writefile rock_agent_prev.py\n",
        "def rock_agent_prev(observation, configuration):\n",
        "  \"\"\"\n",
        "  0 - камень, 1 - бумага, 2 - ножницы\n",
        "  Агент, начинающий с \"Камня\", в четный ход играющий предмет,\n",
        "  который выигрывает предыдущий ход оппонента, а в нечетный - снова \"Камень\"\n",
        "  \"\"\"\n",
        "  if observation.step > 0 and observation.step%2 == 0:\n",
        "    if observation.lastOpponentAction == 0:\n",
        "      return 1\n",
        "    elif observation.lastOpponentAction == 1:\n",
        "      return 2\n",
        "    elif observation.lastOpponentAction == 2:\n",
        "      return 0\n",
        "  elif observation.step > 0 and observation.step%2 == 1:\n",
        "    return 0\n",
        "  else:\n",
        "    return 0"
      ]
    },
    {
      "cell_type": "code",
      "execution_count": 9,
      "metadata": {
        "colab": {
          "base_uri": "https://localhost:8080/"
        },
        "id": "7XIcUZX1tEAi",
        "outputId": "3784e4e8-1c98-475a-f74c-46d2029f2dff"
      },
      "outputs": [
        {
          "output_type": "stream",
          "name": "stdout",
          "text": [
            "Writing rock_agent_prev_lose.py\n"
          ]
        }
      ],
      "source": [
        "#Агент 3.\n",
        "%%writefile rock_agent_prev_lose.py\n",
        "def rock_agent_prev_lose(observation, configuration):\n",
        "  \"\"\"\n",
        "  0 - камень, 1 - бумага, 2 - ножницы\n",
        "  Агент, начинающий с \"Камня\", а потом играющий предмет, который проигрывает предыдущему ходу оппонента\n",
        "  \"\"\"\n",
        "  if observation.step > 0:\n",
        "    if observation.lastOpponentAction == 0:\n",
        "      return 2\n",
        "    elif observation.lastOpponentAction == 1:\n",
        "      return 0\n",
        "    elif observation.lastOpponentAction == 2:\n",
        "      return 1\n",
        "  else:\n",
        "    return 0"
      ]
    },
    {
      "cell_type": "code",
      "execution_count": 10,
      "metadata": {
        "colab": {
          "base_uri": "https://localhost:8080/"
        },
        "id": "QYGHCDTptEII",
        "outputId": "a7d53f71-09fd-4795-9acd-fcf1e076f388"
      },
      "outputs": [
        {
          "output_type": "stream",
          "name": "stdout",
          "text": [
            "Writing rock_agent_prev_win.py\n"
          ]
        }
      ],
      "source": [
        "#Агент 4.\n",
        "%%writefile rock_agent_prev_win.py\n",
        "def rock_agent_prev_win(observation, configuration):\n",
        "  \"\"\"\n",
        "  0 - камень, 1 - бумага, 2 - ножницы\n",
        "  Агент, начинающий с \"Камня\", а потом играющий предмет, который выигрывает предыдущий ход оппонента\n",
        "  \"\"\"\n",
        "  if observation.step > 0:\n",
        "    if observation.lastOpponentAction == 0:\n",
        "      return 1\n",
        "    elif observation.lastOpponentAction == 1:\n",
        "      return 2\n",
        "    elif observation.lastOpponentAction == 2:\n",
        "      return 0\n",
        "  else:\n",
        "    return 0"
      ]
    },
    {
      "cell_type": "code",
      "execution_count": 11,
      "metadata": {
        "colab": {
          "base_uri": "https://localhost:8080/"
        },
        "id": "xO1sErpTqQlw",
        "outputId": "8e780685-dd67-45fd-9e82-cba647e97b50"
      },
      "outputs": [
        {
          "output_type": "stream",
          "name": "stdout",
          "text": [
            "Writing paper_agent.py\n"
          ]
        }
      ],
      "source": [
        "#Агент 5.\n",
        "%%writefile paper_agent.py\n",
        "def paper_agent(observation, configuration):\n",
        "  \"\"\"\n",
        "  0 - камень, 1 - бумага, 2 - ножницы\n",
        "  Агент, всегда играющий \"Бумагу\"\n",
        "  \"\"\"\n",
        "  return 1"
      ]
    },
    {
      "cell_type": "code",
      "execution_count": 12,
      "metadata": {
        "colab": {
          "base_uri": "https://localhost:8080/"
        },
        "id": "IxXtULxHtRTH",
        "outputId": "cc545993-e826-4d70-b4bd-435ccb408895"
      },
      "outputs": [
        {
          "output_type": "stream",
          "name": "stdout",
          "text": [
            "Writing paper_agent_prev.py\n"
          ]
        }
      ],
      "source": [
        "#Агент 6.\n",
        "%%writefile paper_agent_prev.py\n",
        "def paper_agent_prev(observation, configuration):\n",
        "  \"\"\"\n",
        "  0 - камень, 1 - бумага, 2 - ножницы\n",
        "  Агент, начинающий с \"Бумаги\", в четный ход играющий предмет,\n",
        "  который выигрывает предыдущий ход оппонента, а в нечетный - снова \"Бумагу\"\n",
        "  \"\"\"\n",
        "  if observation.step > 0 and observation.step%2 == 0:\n",
        "    if observation.lastOpponentAction == 0:\n",
        "      return 1\n",
        "    elif observation.lastOpponentAction == 1:\n",
        "      return 2\n",
        "    elif observation.lastOpponentAction == 2:\n",
        "      return 0\n",
        "  elif observation.step > 0 and observation.step%2 == 1:\n",
        "    return 1\n",
        "  else:\n",
        "    return 1"
      ]
    },
    {
      "cell_type": "code",
      "execution_count": 13,
      "metadata": {
        "colab": {
          "base_uri": "https://localhost:8080/"
        },
        "id": "rN1nQCTNtRW8",
        "outputId": "d073fd90-0ee1-4d55-843b-c3f3f124037e"
      },
      "outputs": [
        {
          "output_type": "stream",
          "name": "stdout",
          "text": [
            "Writing paper_agent_prev_lose.py\n"
          ]
        }
      ],
      "source": [
        "#Агент 7.\n",
        "%%writefile paper_agent_prev_lose.py\n",
        "def paper_agent_prev_lose(observation, configuration):\n",
        "  \"\"\"\n",
        "  0 - камень, 1 - бумага, 2 - ножницы\n",
        "  Агент, начинающий с \"Бумаги\", а потом играющий предмет, который проигрывает предыдущему ходу оппонента\n",
        "  \"\"\"\n",
        "  if observation.step > 0:\n",
        "    if observation.lastOpponentAction == 0:\n",
        "      return 2\n",
        "    elif observation.lastOpponentAction == 1:\n",
        "      return 0\n",
        "    elif observation.lastOpponentAction == 2:\n",
        "      return 1\n",
        "  else:\n",
        "    return 1"
      ]
    },
    {
      "cell_type": "code",
      "execution_count": 14,
      "metadata": {
        "colab": {
          "base_uri": "https://localhost:8080/"
        },
        "id": "u5LDUMNItRdh",
        "outputId": "9c409a1d-dc2e-4fa1-c44f-2bc30baeb7ac"
      },
      "outputs": [
        {
          "output_type": "stream",
          "name": "stdout",
          "text": [
            "Writing paper_agent_prev_win.py\n"
          ]
        }
      ],
      "source": [
        "#Агент 8.\n",
        "%%writefile paper_agent_prev_win.py\n",
        "def paper_agent_prev_win(observation, configuration):\n",
        "  \"\"\"\n",
        "  0 - камень, 1 - бумага, 2 - ножницы\n",
        "  Агент, начинающий с \"Бумаги\", а потом играющий предмет, который выигрывает предыдущий ход оппонента\n",
        "  \"\"\"\n",
        "  if observation.step > 0:\n",
        "    if observation.lastOpponentAction == 0:\n",
        "      return 1\n",
        "    elif observation.lastOpponentAction == 1:\n",
        "      return 2\n",
        "    elif observation.lastOpponentAction == 2:\n",
        "      return 0\n",
        "  else:\n",
        "    return 1"
      ]
    },
    {
      "cell_type": "code",
      "execution_count": 15,
      "metadata": {
        "colab": {
          "base_uri": "https://localhost:8080/"
        },
        "id": "QWAlG_FfqQoj",
        "outputId": "8489e43b-f313-48a8-df71-facb859e8e2e"
      },
      "outputs": [
        {
          "output_type": "stream",
          "name": "stdout",
          "text": [
            "Writing scissor_agent.py\n"
          ]
        }
      ],
      "source": [
        "#Агент 9.\n",
        "%%writefile scissor_agent.py\n",
        "def scissor_agent(observation, configuration):\n",
        "  \"\"\"\n",
        "  0 - камень, 1 - бумага, 2 - ножницы\n",
        "  Агент, всегда играющий \"Ножницы\"\n",
        "  \"\"\"\n",
        "  return 2"
      ]
    },
    {
      "cell_type": "code",
      "execution_count": 16,
      "metadata": {
        "colab": {
          "base_uri": "https://localhost:8080/"
        },
        "id": "2kYkr6JftflL",
        "outputId": "f3c0d662-bb2b-40c8-956c-b03259afc9bf"
      },
      "outputs": [
        {
          "output_type": "stream",
          "name": "stdout",
          "text": [
            "Writing scissor_agent_prev.py\n"
          ]
        }
      ],
      "source": [
        "#Агент 10.\n",
        "%%writefile scissor_agent_prev.py\n",
        "def scissor_agent_prev(observation, configuration):\n",
        "  \"\"\"\n",
        "  0 - камень, 1 - бумага, 2 - ножницы\n",
        "  Агент, начинающий с \"Ножниц\", в четный ход играющий предмет,\n",
        "  который выигрывает предыдущий ход оппонента, а в нечетный - снова \"Ножницы\"\n",
        "  \"\"\"\n",
        "  if observation.step > 0 and observation.step%2 == 0:\n",
        "    if observation.lastOpponentAction == 0:\n",
        "      return 1\n",
        "    elif observation.lastOpponentAction == 1:\n",
        "      return 2\n",
        "    elif observation.lastOpponentAction == 2:\n",
        "      return 0\n",
        "  elif observation.step > 0 and observation.step%2 == 1:\n",
        "    return 2\n",
        "  else:\n",
        "    return 2"
      ]
    },
    {
      "cell_type": "code",
      "execution_count": 17,
      "metadata": {
        "colab": {
          "base_uri": "https://localhost:8080/"
        },
        "id": "Vy8ie3qCtfqa",
        "outputId": "f51ea568-8127-4794-ca31-a93d576c17ca"
      },
      "outputs": [
        {
          "output_type": "stream",
          "name": "stdout",
          "text": [
            "Writing scissor_agent_prev_lose.py\n"
          ]
        }
      ],
      "source": [
        "#Агент 11.\n",
        "%%writefile scissor_agent_prev_lose.py\n",
        "def scissor_agent_prev_lose(observation, configuration):\n",
        "  \"\"\"\n",
        "  0 - камень, 1 - бумага, 2 - ножницы\n",
        "  Агент, начинающий с \"Ножниц\", а потом играющий предмет, который проигрывает предыдущему ходу оппонента\n",
        "  \"\"\"\n",
        "  if observation.step > 0:\n",
        "    if observation.lastOpponentAction == 0:\n",
        "      return 2\n",
        "    elif observation.lastOpponentAction == 1:\n",
        "      return 0\n",
        "    elif observation.lastOpponentAction == 2:\n",
        "      return 1\n",
        "  else:\n",
        "    return 2"
      ]
    },
    {
      "cell_type": "code",
      "execution_count": 18,
      "metadata": {
        "colab": {
          "base_uri": "https://localhost:8080/"
        },
        "id": "g2MqYCc-tfxl",
        "outputId": "6cba09b9-b40f-45ee-c1f1-6459dbe57ccd"
      },
      "outputs": [
        {
          "output_type": "stream",
          "name": "stdout",
          "text": [
            "Writing scissor_agent_prev_win.py\n"
          ]
        }
      ],
      "source": [
        "#Агент 12.\n",
        "%%writefile scissor_agent_prev_win.py\n",
        "def scissor_agent_prev_win(observation, configuration):\n",
        "  \"\"\"\n",
        "  0 - камень, 1 - бумага, 2 - ножницы\n",
        "  Агент, начинающий с \"Ножниц\", а потом играющий предмет, который выигрывает предыдущий ход оппонента\n",
        "  \"\"\"\n",
        "  if observation.step > 0:\n",
        "    if observation.lastOpponentAction == 0:\n",
        "      return 1\n",
        "    elif observation.lastOpponentAction == 1:\n",
        "      return 2\n",
        "    elif observation.lastOpponentAction == 2:\n",
        "      return 0\n",
        "  else:\n",
        "    return 2"
      ]
    },
    {
      "cell_type": "code",
      "execution_count": 19,
      "metadata": {
        "colab": {
          "base_uri": "https://localhost:8080/"
        },
        "id": "AHoGNtbcXiYL",
        "outputId": "ed085bf5-7d2d-48e7-99b4-2bdda6322358"
      },
      "outputs": [
        {
          "output_type": "stream",
          "name": "stdout",
          "text": [
            "Самая результативная стратегия/и ['scissor_agent_prev.py', 'rock_agent_prev.py', 'paper_agent_prev.py']\n"
          ]
        }
      ],
      "source": [
        "# Создаем и перемешиваем список агентов\n",
        "agents = [\n",
        "    \"rock_agent.py\",\n",
        "    \"rock_agent_prev.py\",\n",
        "    \"rock_agent_prev_lose.py\",\n",
        "    \"rock_agent_prev_win.py\",\n",
        "    \"paper_agent.py\",\n",
        "    \"paper_agent_prev.py\",\n",
        "    \"paper_agent_prev_lose.py\",\n",
        "    \"paper_agent_prev_win.py\",\n",
        "    \"scissor_agent.py\",\n",
        "    \"scissor_agent_prev.py\",\n",
        "    \"scissor_agent_prev_lose.py\",\n",
        "    \"scissor_agent_prev_win.py\",\n",
        "]\n",
        "random.shuffle(agents)\n",
        "\n",
        "def tournament(p_list):\n",
        "  \"\"\"\n",
        "  Функция, проводящая турнир \"каждый с каждым\"\n",
        "  \"\"\"\n",
        "  lv_agents = p_list\n",
        "  lv_group = list()\n",
        "  lv_agents_scores = dict()\n",
        "\n",
        "  # В цикле по списку выбираем первого игрока\n",
        "  for left_agent in lv_agents:\n",
        "    lv_left_agent = left_agent\n",
        "    # Инициируем количество очков для игрока, если он еще не играл\n",
        "    lv_agents_scores.setdefault(lv_left_agent, 0)\n",
        "    # В цикле по списку выбираем второго игрока\n",
        "    for right_agent in lv_agents:\n",
        "      lv_group = list()\n",
        "      lv_right_agent = right_agent\n",
        "      # Инициируем количество очков для игрока, если он еще не играл\n",
        "      lv_agents_scores.setdefault(lv_right_agent, 0)\n",
        "      # Если игрок попал сам на себя, то пропускаем итерацию\n",
        "      if lv_left_agent == lv_right_agent:\n",
        "        continue\n",
        "\n",
        "      else:\n",
        "        # Добавляем игроков в группу\n",
        "        lv_group.append(lv_left_agent)\n",
        "        lv_group.append(lv_right_agent)\n",
        "\n",
        "        # Проводим игру\n",
        "        lv_results = evaluate(\n",
        "          \"rps\",\n",
        "          lv_group,\n",
        "          configuration={\"episodeSteps\": 100}\n",
        "          )\n",
        "\n",
        "        lv_result = lv_results[0]\n",
        "        lv_left_score = lv_result[0]\n",
        "        lv_right_score = lv_result[1]\n",
        "\n",
        "        # Сравниваем результаты игры\n",
        "        # Добавляем победившему 1 очко\n",
        "        # При ничьей - переходим к следующей итерации\n",
        "        if lv_left_score > lv_right_score:\n",
        "          lv_agents_scores[lv_left_agent] += 1\n",
        "        elif lv_left_score < lv_right_score:\n",
        "          lv_agents_scores[lv_right_agent] += 1\n",
        "        elif lv_left_score == lv_right_score:\n",
        "          continue\n",
        "\n",
        "  # Возвращаем агента с максимальным количеством очков\n",
        "  max_score = max(lv_agents_scores.values())\n",
        "  max_keys = [k for k, v in lv_agents_scores.items() if v == max_score]\n",
        "\n",
        "  return max_keys\n",
        "\n",
        "\n",
        "print(f'Самая результативная стратегия/и {tournament(agents)}')"
      ]
    },
    {
      "cell_type": "markdown",
      "metadata": {
        "id": "BItG1VeSI3rR"
      },
      "source": [
        "**Вывод:** Из рассмотренных стратегий - самой выигрышной является стратегия розыгрыша в четный ход предмета, который выигрывает предыдущий ход оппонента, а в нечётный ход - предмета с которого началась игра (Причем не имеет значения, какой предмет играет первым и по нечетным ходам - количество побед одинаковое)."
      ]
    }
  ],
  "metadata": {
    "colab": {
      "provenance": [],
      "include_colab_link": true
    },
    "kernelspec": {
      "display_name": "Python 3 (ipykernel)",
      "language": "python",
      "name": "python3"
    },
    "language_info": {
      "codemirror_mode": {
        "name": "ipython",
        "version": 3
      },
      "file_extension": ".py",
      "mimetype": "text/x-python",
      "name": "python",
      "nbconvert_exporter": "python",
      "pygments_lexer": "ipython3",
      "version": "3.12.4"
    }
  },
  "nbformat": 4,
  "nbformat_minor": 0
}